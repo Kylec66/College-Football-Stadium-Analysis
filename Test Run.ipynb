{
 "cells": [
  {
   "cell_type": "code",
   "execution_count": 6,
   "id": "ed2fb3c1",
   "metadata": {},
   "outputs": [],
   "source": [
    "import os\n",
    "from sqlalchemy.orm import session\n",
    "from sqlalchemy import create_engine, inspect\n",
    "from sqlalchemy.ext.automap import automap_base"
   ]
  },
  {
   "cell_type": "code",
   "execution_count": 7,
   "id": "56ee8233",
   "metadata": {},
   "outputs": [],
   "source": [
    "from flask import (\n",
    "    Flask,\n",
    "    render_template,\n",
    "    jsonify,\n",
    "    redirect)\n"
   ]
  },
  {
   "cell_type": "code",
   "execution_count": 8,
   "id": "a4640f34",
   "metadata": {},
   "outputs": [],
   "source": [
    "# Create Engine\n",
    "\n",
    "engine = create_engine(\"sqlite:///college_football_db.sqlite\")\n",
    "\n",
    "# Creating new mdoel from Database\n",
    "\n",
    "Base = automap_base()"
   ]
  },
  {
   "cell_type": "code",
   "execution_count": 10,
   "id": "94d54e26",
   "metadata": {},
   "outputs": [
    {
     "name": "stdout",
     "output_type": "stream",
     "text": [
      "['stadium', 'win_loss_record']\n"
     ]
    },
    {
     "name": "stderr",
     "output_type": "stream",
     "text": [
      "/Users/jordanmorales/opt/anaconda3/lib/python3.8/site-packages/sqlalchemy/orm/clsregistry.py:176: SAWarning: This declarative base already contains a class with the same class name and module name as sqlalchemy.ext.automap.stadium, and will be replaced in the string-lookup table.\n",
      "  util.warn(\n",
      "/Users/jordanmorales/opt/anaconda3/lib/python3.8/site-packages/sqlalchemy/orm/clsregistry.py:176: SAWarning: This declarative base already contains a class with the same class name and module name as sqlalchemy.ext.automap.win_loss_record, and will be replaced in the string-lookup table.\n",
      "  util.warn(\n"
     ]
    }
   ],
   "source": [
    "# Reflect Tables\n",
    "\n",
    "Base.prepare(engine, reflect=True)\n",
    "\n",
    "# Save Reference to table\n",
    "\n",
    "print(Base.classes.keys())\n",
    "\n",
    "Stadiums = Base.classes.stadium\n",
    "Record = Base.classes.win_loss_record"
   ]
  },
  {
   "cell_type": "code",
   "execution_count": null,
   "id": "71dfa377",
   "metadata": {},
   "outputs": [],
   "source": []
  }
 ],
 "metadata": {
  "kernelspec": {
   "display_name": "Python 3",
   "language": "python",
   "name": "python3"
  },
  "language_info": {
   "codemirror_mode": {
    "name": "ipython",
    "version": 3
   },
   "file_extension": ".py",
   "mimetype": "text/x-python",
   "name": "python",
   "nbconvert_exporter": "python",
   "pygments_lexer": "ipython3",
   "version": "3.8.8"
  }
 },
 "nbformat": 4,
 "nbformat_minor": 5
}
